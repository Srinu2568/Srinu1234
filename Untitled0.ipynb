{
  "nbformat": 4,
  "nbformat_minor": 0,
  "metadata": {
    "colab": {
      "name": "Untitled0.ipynb",
      "provenance": [],
      "collapsed_sections": [],
      "authorship_tag": "ABX9TyPcFSrzSqnWgjJ17zU59mim",
      "include_colab_link": true
    },
    "kernelspec": {
      "name": "python3",
      "display_name": "Python 3"
    },
    "language_info": {
      "name": "python"
    }
  },
  "cells": [
    {
      "cell_type": "markdown",
      "metadata": {
        "id": "view-in-github",
        "colab_type": "text"
      },
      "source": [
        "<a href=\"https://colab.research.google.com/github/Srinu2568/Srinu1234/blob/main/Untitled0.ipynb\" target=\"_parent\"><img src=\"https://colab.research.google.com/assets/colab-badge.svg\" alt=\"Open In Colab\"/></a>"
      ]
    },
    {
      "cell_type": "code",
      "metadata": {
        "colab": {
          "base_uri": "https://localhost:8080/"
        },
        "id": "rPir4eb295Ns",
        "outputId": "4228c11d-15d6-4dc3-bfc3-51745fc7e47b"
      },
      "source": [
        "#session-1 code\n",
        " \n",
        "import numpy as np\n",
        "import pandas as pd\n",
        "import csv\n",
        " \n",
        "# problem1\n",
        "# Version of numpy = 1.21.1\n",
        " \n",
        "# problem2\n",
        "# Version of pandas = 1.3.1\n",
        " \n",
        "# Reading data from csv and Framing the data using read_csv method\n",
        "df = pd.read_csv(\"data.csv\")\n",
        " \n",
        "# problem3\n",
        "# print(df.groupby(\"Make\").MSRP.mean())\n",
        " \n",
        "# problem4\n",
        "# print(((df['Engine HP'].isnull()) & df['Year'] >= 2015).sum())\n",
        " \n",
        "# problem5\n",
        "# mean_hp_before = df[\"Engine HP\"].mean()\n",
        "# print(round(mean_hp_before))\n",
        "# mean_hp_after = df[\"Engine HP\"].fillna(mean_hp_before).mean()\n",
        "# print(round(mean_hp_after))\n",
        " \n",
        "# problem6\n",
        "# x = df.loc[df[\"Make\"] == \"Rolls-Royce\"]\n",
        "# y = x[[\"Engine HP\", \"Engine Cylinders\", \"highway MPG\"]]\n",
        "# y = y.drop_duplicates()\n",
        "# X = np.array(y)\n",
        "# T = np.transpose(X)\n",
        "# XTX = T.dot(X)\n",
        "# XTX = np.linalg.inv(XTX)\n",
        "# sum = XTX.sum()\n",
        "# print(sum)\n",
        " \n",
        "# problem7\n",
        "Y = np.array([1000, 1100, 900, 1200, 1000, 850, 1300])\n",
        "x = df.loc[df[\"Make\"] == \"Rolls-Royce\"]\n",
        "y = x[[\"Engine HP\", \"Engine Cylinders\", \"highway MPG\"]]\n",
        "y = y.drop_duplicates()\n",
        "X = np.array(y)\n",
        "T = np.transpose(X)\n",
        "XTX = T.dot(X)\n",
        "XTX = np.linalg.inv(XTX)\n",
        "result = np.dot(XTX, np.transpose(X))\n",
        "w = np.dot(result, Y)\n",
        "print(w[0])"
      ],
      "execution_count": 7,
      "outputs": [
        {
          "output_type": "stream",
          "name": "stdout",
          "text": [
            "0.19989598183188978\n"
          ]
        }
      ]
    }
  ]
}